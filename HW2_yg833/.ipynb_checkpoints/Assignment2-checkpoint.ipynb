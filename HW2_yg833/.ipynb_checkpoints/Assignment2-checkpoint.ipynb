{
 "cells": [
  {
   "cell_type": "code",
   "execution_count": 1,
   "metadata": {},
   "outputs": [],
   "source": [
    "# This notebook is for Assignment 2 of Homework 3 for PUI2018\n",
    "# This notebook uses data from NYC Open Data\n",
    "# https://data.cityofnewyork.us/Health/HIV-AIDS-Diagnoses-by-Neighborhood-Age-Group-and-R/dxnu-p2qd\n",
    "# this notebook is based on the Assignment2_example.ipynb from Prof. Bianco\n",
    "# For this assignment, I worked with Sam Falk. We looked at the NYC Open Data together and picked a data set. Then\n",
    "# we inspected the data set and selected the variables for plotting. Initially, we picked year but realized that is not actually\n",
    "# a true numerical variable. Then we picked HIV and AIDS. "
   ]
  },
  {
   "cell_type": "code",
   "execution_count": 2,
   "metadata": {},
   "outputs": [],
   "source": [
    "from __future__ import print_function #for compatibility beteen python2 and python3"
   ]
  },
  {
   "cell_type": "markdown",
   "metadata": {},
   "source": [
    "# Find data on the portal"
   ]
  },
  {
   "cell_type": "markdown",
   "metadata": {},
   "source": [
    " Using NYC DOHMH data on new diagnoses of HIV and AIDS in NYC\n",
    " obtained with the following steps from the website \n",
    " \n",
    " https://opendata.cityofnewyork.us/ -> Data\n",
    " https://opendata.cityofnewyork.us/data/ -> Department of Health and Mental Hygiene (DOHMH)\n",
    " https://data.cityofnewyork.us/browse?Dataset-Information_Agency=Department+of+Health+and+Mental+Hygiene+%28DOHMH%29 ->  HIV/AIDS Diagnoses by Neighborhood, Sex, and Race/Ethnicity\n",
    " \n",
    "https://data.cityofnewyork.us/Health/HIV-AIDS-Diagnoses-by-Neighborhood-Sex-and-Race-Et/ykvb-493p ->  View Data \n",
    " \n",
    "https://data.cityofnewyork.us/Health/HIV-AIDS-Diagnoses-by-Neighborhood-Sex-and-Race-Et/ykvb-493p -> Export\n",
    " \n",
    " this gives me various links. I copy and paste below the CSV link\n",
    " \n",
    " https://data.cityofnewyork.us/api/views/ykvb-493p/rows.csv?accessType=DOWNLOAD \n",
    " \n",
    " name the file as HIVAIDsdata.csv"
   ]
  },
  {
   "cell_type": "markdown",
   "metadata": {},
   "source": [
    "# solution 1: download from the portal \n"
   ]
  },
  {
   "cell_type": "code",
   "execution_count": 3,
   "metadata": {},
   "outputs": [
    {
     "name": "stdout",
     "output_type": "stream",
     "text": [
      "  % Total    % Received % Xferd  Average Speed   Time    Time     Time  Current\n",
      "                                 Dload  Upload   Total   Spent    Left  Speed\n",
      "100  164k    0  164k    0     0   588k      0 --:--:-- --:--:-- --:--:--  589k\n"
     ]
    }
   ],
   "source": [
    "!curl https://data.cityofnewyork.us/api/views/ykvb-493p/rows.csv?accessType=DOWNLOAD > HIVAIDsdata.csv"
   ]
  },
  {
   "cell_type": "code",
   "execution_count": 4,
   "metadata": {},
   "outputs": [
    {
     "name": "stdout",
     "output_type": "stream",
     "text": [
      "PUIdata /nfshome/yg833/PUIdata\n"
     ]
    }
   ],
   "source": [
    "# ove the downloaded data to PUI data\n",
    "import os\n",
    "print(\"PUIdata\", os.getenv(\"PUIDATA\"))"
   ]
  },
  {
   "cell_type": "code",
   "execution_count": 5,
   "metadata": {},
   "outputs": [
    {
     "name": "stdout",
     "output_type": "stream",
     "text": [
      "PUIdata /nfshome/yg833/PUI2018/PUIdata\n"
     ]
    }
   ],
   "source": [
    "#create the env variable if missing\n",
    "os.environ[\"PUIDATA\"] = \"%s/PUI2018/PUIdata\"%os.getenv(\"HOME\")\n",
    "\n",
    "print(\"PUIdata\", os.getenv(\"PUIDATA\"))"
   ]
  },
  {
   "cell_type": "code",
   "execution_count": 6,
   "metadata": {},
   "outputs": [],
   "source": [
    "# move the data\n",
    "!mv HIVAIDsdata.csv $PUIDATA"
   ]
  },
  {
   "cell_type": "code",
   "execution_count": 7,
   "metadata": {},
   "outputs": [
    {
     "name": "stdout",
     "output_type": "stream",
     "text": [
      "HIVAIDsdata.csv\r\n"
     ]
    }
   ],
   "source": [
    "#test if the data is there\n",
    "!ls $PUIDATA"
   ]
  },
  {
   "cell_type": "markdown",
   "metadata": {},
   "source": [
    "## read in the data with pandas"
   ]
  },
  {
   "cell_type": "code",
   "execution_count": 8,
   "metadata": {},
   "outputs": [],
   "source": [
    "#read in the data with pandas\n",
    "import pandas as pd\n",
    "import numpy as np\n",
    "aids_df = pd.read_csv(\"%s/HIVAIDsdata.csv\"%os.getenv(\"PUIDATA\"))"
   ]
  },
  {
   "cell_type": "code",
   "execution_count": 9,
   "metadata": {},
   "outputs": [
    {
     "data": {
      "text/html": [
       "<div>\n",
       "<table border=\"1\" class=\"dataframe\">\n",
       "  <thead>\n",
       "    <tr style=\"text-align: right;\">\n",
       "      <th></th>\n",
       "      <th>YEAR</th>\n",
       "      <th>Neighborhood (U.H.F)</th>\n",
       "      <th>SEX</th>\n",
       "      <th>RACE/ETHNICITY</th>\n",
       "      <th>TOTAL NUMBER OF HIV DIAGNOSES</th>\n",
       "      <th>HIV DIAGNOSES PER 100,000 POPULATION</th>\n",
       "      <th>TOTAL NUMBER OF CONCURRENT HIV/AIDS DIAGNOSES</th>\n",
       "      <th>PROPORTION OF CONCURRENT HIV/AIDS DIAGNOSES AMONG ALL HIV DIAGNOSES</th>\n",
       "      <th>TOTAL NUMBER OF AIDS DIAGNOSES</th>\n",
       "      <th>AIDS DIAGNOSES PER 100,000 POPULATION</th>\n",
       "    </tr>\n",
       "  </thead>\n",
       "  <tbody>\n",
       "    <tr>\n",
       "      <th>0</th>\n",
       "      <td>2010</td>\n",
       "      <td>Greenpoint</td>\n",
       "      <td>Male</td>\n",
       "      <td>Black</td>\n",
       "      <td>6</td>\n",
       "      <td>330.4</td>\n",
       "      <td>0</td>\n",
       "      <td>0</td>\n",
       "      <td>5</td>\n",
       "      <td>275.3</td>\n",
       "    </tr>\n",
       "    <tr>\n",
       "      <th>1</th>\n",
       "      <td>2011</td>\n",
       "      <td>Stapleton - St. George</td>\n",
       "      <td>Female</td>\n",
       "      <td>Native American</td>\n",
       "      <td>0</td>\n",
       "      <td>0</td>\n",
       "      <td>0</td>\n",
       "      <td>0</td>\n",
       "      <td>0</td>\n",
       "      <td>0</td>\n",
       "    </tr>\n",
       "    <tr>\n",
       "      <th>2</th>\n",
       "      <td>2010</td>\n",
       "      <td>Southeast Queens</td>\n",
       "      <td>Male</td>\n",
       "      <td>All</td>\n",
       "      <td>23</td>\n",
       "      <td>25.4</td>\n",
       "      <td>5</td>\n",
       "      <td>21.7</td>\n",
       "      <td>14</td>\n",
       "      <td>15.4</td>\n",
       "    </tr>\n",
       "    <tr>\n",
       "      <th>3</th>\n",
       "      <td>2012</td>\n",
       "      <td>Upper Westside</td>\n",
       "      <td>Female</td>\n",
       "      <td>Unknown</td>\n",
       "      <td>0</td>\n",
       "      <td>0</td>\n",
       "      <td>0</td>\n",
       "      <td>0</td>\n",
       "      <td>0</td>\n",
       "      <td>0</td>\n",
       "    </tr>\n",
       "    <tr>\n",
       "      <th>4</th>\n",
       "      <td>2013</td>\n",
       "      <td>Willowbrook</td>\n",
       "      <td>Male</td>\n",
       "      <td>Unknown</td>\n",
       "      <td>0</td>\n",
       "      <td>0</td>\n",
       "      <td>0</td>\n",
       "      <td>0</td>\n",
       "      <td>0</td>\n",
       "      <td>0</td>\n",
       "    </tr>\n",
       "    <tr>\n",
       "      <th>5</th>\n",
       "      <td>2013</td>\n",
       "      <td>East Flatbush - Flatbush</td>\n",
       "      <td>Male</td>\n",
       "      <td>Black</td>\n",
       "      <td>54</td>\n",
       "      <td>56.5</td>\n",
       "      <td>8</td>\n",
       "      <td>14.8</td>\n",
       "      <td>33</td>\n",
       "      <td>34.5</td>\n",
       "    </tr>\n",
       "    <tr>\n",
       "      <th>6</th>\n",
       "      <td>2013</td>\n",
       "      <td>East Flatbush - Flatbush</td>\n",
       "      <td>Female</td>\n",
       "      <td>Native American</td>\n",
       "      <td>0</td>\n",
       "      <td>0</td>\n",
       "      <td>0</td>\n",
       "      <td>0</td>\n",
       "      <td>0</td>\n",
       "      <td>0</td>\n",
       "    </tr>\n",
       "    <tr>\n",
       "      <th>7</th>\n",
       "      <td>2013</td>\n",
       "      <td>Southwest Queens</td>\n",
       "      <td>Female</td>\n",
       "      <td>Unknown</td>\n",
       "      <td>0</td>\n",
       "      <td>0</td>\n",
       "      <td>0</td>\n",
       "      <td>0</td>\n",
       "      <td>0</td>\n",
       "      <td>0</td>\n",
       "    </tr>\n",
       "  </tbody>\n",
       "</table>\n",
       "</div>"
      ],
      "text/plain": [
       "   YEAR      Neighborhood (U.H.F)     SEX   RACE/ETHNICITY  \\\n",
       "0  2010                Greenpoint    Male            Black   \n",
       "1  2011    Stapleton - St. George  Female  Native American   \n",
       "2  2010          Southeast Queens    Male              All   \n",
       "3  2012            Upper Westside  Female          Unknown   \n",
       "4  2013               Willowbrook    Male          Unknown   \n",
       "5  2013  East Flatbush - Flatbush    Male            Black   \n",
       "6  2013  East Flatbush - Flatbush  Female  Native American   \n",
       "7  2013          Southwest Queens  Female          Unknown   \n",
       "\n",
       "  TOTAL NUMBER OF HIV DIAGNOSES HIV DIAGNOSES PER 100,000 POPULATION  \\\n",
       "0                             6                                330.4   \n",
       "1                             0                                    0   \n",
       "2                            23                                 25.4   \n",
       "3                             0                                    0   \n",
       "4                             0                                    0   \n",
       "5                            54                                 56.5   \n",
       "6                             0                                    0   \n",
       "7                             0                                    0   \n",
       "\n",
       "  TOTAL NUMBER OF CONCURRENT HIV/AIDS DIAGNOSES  \\\n",
       "0                                             0   \n",
       "1                                             0   \n",
       "2                                             5   \n",
       "3                                             0   \n",
       "4                                             0   \n",
       "5                                             8   \n",
       "6                                             0   \n",
       "7                                             0   \n",
       "\n",
       "  PROPORTION OF CONCURRENT HIV/AIDS DIAGNOSES AMONG ALL HIV DIAGNOSES  \\\n",
       "0                                                  0                    \n",
       "1                                                  0                    \n",
       "2                                               21.7                    \n",
       "3                                                  0                    \n",
       "4                                                  0                    \n",
       "5                                               14.8                    \n",
       "6                                                  0                    \n",
       "7                                                  0                    \n",
       "\n",
       "  TOTAL NUMBER OF AIDS DIAGNOSES AIDS DIAGNOSES PER 100,000 POPULATION  \n",
       "0                              5                                 275.3  \n",
       "1                              0                                     0  \n",
       "2                             14                                  15.4  \n",
       "3                              0                                     0  \n",
       "4                              0                                     0  \n",
       "5                             33                                  34.5  \n",
       "6                              0                                     0  \n",
       "7                              0                                     0  "
      ]
     },
     "execution_count": 9,
     "metadata": {},
     "output_type": "execute_result"
    }
   ],
   "source": [
    "#print the fist 8 lines out\n",
    "aids_df.head(8)"
   ]
  },
  {
   "cell_type": "code",
   "execution_count": 10,
   "metadata": {},
   "outputs": [
    {
     "data": {
      "text/html": [
       "<div>\n",
       "<table border=\"1\" class=\"dataframe\">\n",
       "  <thead>\n",
       "    <tr style=\"text-align: right;\">\n",
       "      <th></th>\n",
       "      <th>YEAR</th>\n",
       "      <th>Neighborhood (U.H.F)</th>\n",
       "      <th>SEX</th>\n",
       "      <th>RACE/ETHNICITY</th>\n",
       "      <th>TOTAL NUMBER OF HIV DIAGNOSES</th>\n",
       "      <th>HIV DIAGNOSES PER 100,000 POPULATION</th>\n",
       "      <th>TOTAL NUMBER OF CONCURRENT HIV/AIDS DIAGNOSES</th>\n",
       "      <th>PROPORTION OF CONCURRENT HIV/AIDS DIAGNOSES AMONG ALL HIV DIAGNOSES</th>\n",
       "      <th>TOTAL NUMBER OF AIDS DIAGNOSES</th>\n",
       "      <th>AIDS DIAGNOSES PER 100,000 POPULATION</th>\n",
       "    </tr>\n",
       "  </thead>\n",
       "  <tbody>\n",
       "    <tr>\n",
       "      <th>2925</th>\n",
       "      <td>2010</td>\n",
       "      <td>Bedford Stuyvesant - Crown Heights</td>\n",
       "      <td>Male</td>\n",
       "      <td>Native American</td>\n",
       "      <td>0</td>\n",
       "      <td>0</td>\n",
       "      <td>0</td>\n",
       "      <td>0</td>\n",
       "      <td>0</td>\n",
       "      <td>0</td>\n",
       "    </tr>\n",
       "    <tr>\n",
       "      <th>2926</th>\n",
       "      <td>2011</td>\n",
       "      <td>Long Island City - Astoria</td>\n",
       "      <td>Male</td>\n",
       "      <td>Black</td>\n",
       "      <td>6</td>\n",
       "      <td>97.6</td>\n",
       "      <td>1</td>\n",
       "      <td>16.7</td>\n",
       "      <td>3</td>\n",
       "      <td>48.8</td>\n",
       "    </tr>\n",
       "    <tr>\n",
       "      <th>2927</th>\n",
       "      <td>2011</td>\n",
       "      <td>Bensonhurst - Bay Ridge</td>\n",
       "      <td>Female</td>\n",
       "      <td>Hispanic</td>\n",
       "      <td>0</td>\n",
       "      <td>0</td>\n",
       "      <td>0</td>\n",
       "      <td>0</td>\n",
       "      <td>0</td>\n",
       "      <td>0</td>\n",
       "    </tr>\n",
       "  </tbody>\n",
       "</table>\n",
       "</div>"
      ],
      "text/plain": [
       "      YEAR                Neighborhood (U.H.F)     SEX   RACE/ETHNICITY  \\\n",
       "2925  2010  Bedford Stuyvesant - Crown Heights    Male  Native American   \n",
       "2926  2011          Long Island City - Astoria    Male            Black   \n",
       "2927  2011             Bensonhurst - Bay Ridge  Female         Hispanic   \n",
       "\n",
       "     TOTAL NUMBER OF HIV DIAGNOSES HIV DIAGNOSES PER 100,000 POPULATION  \\\n",
       "2925                             0                                    0   \n",
       "2926                             6                                 97.6   \n",
       "2927                             0                                    0   \n",
       "\n",
       "     TOTAL NUMBER OF CONCURRENT HIV/AIDS DIAGNOSES  \\\n",
       "2925                                             0   \n",
       "2926                                             1   \n",
       "2927                                             0   \n",
       "\n",
       "     PROPORTION OF CONCURRENT HIV/AIDS DIAGNOSES AMONG ALL HIV DIAGNOSES  \\\n",
       "2925                                                  0                    \n",
       "2926                                               16.7                    \n",
       "2927                                                  0                    \n",
       "\n",
       "     TOTAL NUMBER OF AIDS DIAGNOSES AIDS DIAGNOSES PER 100,000 POPULATION  \n",
       "2925                              0                                     0  \n",
       "2926                              3                                  48.8  \n",
       "2927                              0                                     0  "
      ]
     },
     "execution_count": 10,
     "metadata": {},
     "output_type": "execute_result"
    }
   ],
   "source": [
    "#print the last 3 lines out\n",
    "aids_df.tail(3)"
   ]
  },
  {
   "cell_type": "code",
   "execution_count": 11,
   "metadata": {},
   "outputs": [
    {
     "data": {
      "text/plain": [
       "Index(['YEAR', 'Neighborhood (U.H.F)', 'SEX', 'RACE/ETHNICITY',\n",
       "       'TOTAL NUMBER OF HIV DIAGNOSES', 'HIV DIAGNOSES PER 100,000 POPULATION',\n",
       "       'TOTAL NUMBER OF CONCURRENT HIV/AIDS DIAGNOSES',\n",
       "       'PROPORTION OF CONCURRENT HIV/AIDS DIAGNOSES AMONG ALL HIV DIAGNOSES',\n",
       "       'TOTAL NUMBER OF AIDS DIAGNOSES',\n",
       "       'AIDS DIAGNOSES PER 100,000 POPULATION'],\n",
       "      dtype='object')"
      ]
     },
     "execution_count": 11,
     "metadata": {},
     "output_type": "execute_result"
    }
   ],
   "source": [
    "#look at the columns available, those are the variables\n",
    "aids_df.columns"
   ]
  },
  {
   "cell_type": "code",
   "execution_count": 12,
   "metadata": {},
   "outputs": [
    {
     "data": {
      "text/plain": [
       "YEAR                                                                    int64\n",
       "Neighborhood (U.H.F)                                                   object\n",
       "SEX                                                                    object\n",
       "RACE/ETHNICITY                                                         object\n",
       "TOTAL NUMBER OF HIV DIAGNOSES                                          object\n",
       "HIV DIAGNOSES PER 100,000 POPULATION                                   object\n",
       "TOTAL NUMBER OF CONCURRENT HIV/AIDS DIAGNOSES                          object\n",
       "PROPORTION OF CONCURRENT HIV/AIDS DIAGNOSES AMONG ALL HIV DIAGNOSES    object\n",
       "TOTAL NUMBER OF AIDS DIAGNOSES                                         object\n",
       "AIDS DIAGNOSES PER 100,000 POPULATION                                  object\n",
       "dtype: object"
      ]
     },
     "execution_count": 12,
     "metadata": {},
     "output_type": "execute_result"
    }
   ],
   "source": [
    "# inspect for the data type\n",
    "aids_df.dtypes"
   ]
  },
  {
   "cell_type": "code",
   "execution_count": 13,
   "metadata": {},
   "outputs": [
    {
     "data": {
      "text/plain": [
       "29280"
      ]
     },
     "execution_count": 13,
     "metadata": {},
     "output_type": "execute_result"
    }
   ],
   "source": [
    "#count how many rows, those are the data points\n",
    "aids_df.size"
   ]
  },
  {
   "cell_type": "code",
   "execution_count": 14,
   "metadata": {},
   "outputs": [
    {
     "data": {
      "text/plain": [
       "array(['*', '0', '1', '10', '100', '101', '102', '104', '105', '107',\n",
       "       '108', '109', '11', '110', '111', '112', '113', '114', '115', '116',\n",
       "       '117', '12', '120', '122', '123', '125', '128', '129', '13', '131',\n",
       "       '132', '133', '134', '135', '138', '14', '140', '141', '142', '143',\n",
       "       '145', '147', '148', '15', '150', '151', '155', '16', '162', '164',\n",
       "       '166', '168', '17', '171', '172', '178', '18', '187', '19', '195',\n",
       "       '2', '20', '204', '21', '212', '22', '23', '237', '24', '25', '252',\n",
       "       '26', '27', '271', '275', '28', '2832', '284', '29', '2990', '3',\n",
       "       '30', '31', '314', '315', '32', '3225', '325', '33', '3353', '34',\n",
       "       '35', '36', '37', '38', '39', '4', '40', '41', '42', '43', '44',\n",
       "       '45', '46', '47', '48', '49', '5', '50', '51', '52', '53', '54',\n",
       "       '55', '56', '57', '58', '59', '6', '60', '61', '62', '63', '64',\n",
       "       '65', '66', '67', '68', '69', '7', '70', '71', '72', '73', '74',\n",
       "       '75', '76', '77', '78', '79', '8', '80', '81', '82', '83', '84',\n",
       "       '85', '86', '87', '88', '89', '9', '90', '91', '92', '94', '95',\n",
       "       '96', '98', '99'], dtype=object)"
      ]
     },
     "execution_count": 14,
     "metadata": {},
     "output_type": "execute_result"
    }
   ],
   "source": [
    "# Check the unique values in the TOTAL NUMBER OF HIV DIAGNOSES\n",
    "np.unique(aids_df[['TOTAL NUMBER OF HIV DIAGNOSES']])"
   ]
  },
  {
   "cell_type": "code",
   "execution_count": 15,
   "metadata": {},
   "outputs": [
    {
     "data": {
      "text/plain": [
       "array(['*', '0', '1', '10', '100', '101', '102', '104', '106', '108', '11',\n",
       "       '110', '114', '118', '12', '120', '122', '124', '128', '129', '13',\n",
       "       '132', '14', '144', '15', '155', '159', '16', '168', '17', '176',\n",
       "       '1784', '18', '180', '19', '193', '2', '20', '201', '203', '2036',\n",
       "       '21', '22', '221', '222', '229', '2292', '23', '24', '25', '26',\n",
       "       '2611', '27', '28', '29', '3', '30', '31', '32', '33', '34', '35',\n",
       "       '36', '37', '38', '39', '4', '40', '41', '42', '43', '44', '45',\n",
       "       '46', '47', '48', '49', '5', '50', '51', '52', '53', '54', '55',\n",
       "       '56', '57', '58', '59', '6', '60', '61', '62', '63', '64', '65',\n",
       "       '66', '67', '68', '69', '7', '70', '71', '72', '73', '74', '75',\n",
       "       '77', '78', '79', '8', '81', '82', '83', '84', '85', '86', '87',\n",
       "       '88', '89', '9', '90', '91', '93', '96', '97', '98', '99'], dtype=object)"
      ]
     },
     "execution_count": 15,
     "metadata": {},
     "output_type": "execute_result"
    }
   ],
   "source": [
    "# Check the unique values in the \"TOTAL NUMBER OF AIDS DIAGNOSES\n",
    "np.unique(aids_df[['TOTAL NUMBER OF AIDS DIAGNOSES']])"
   ]
  },
  {
   "cell_type": "code",
   "execution_count": 16,
   "metadata": {},
   "outputs": [
    {
     "data": {
      "text/plain": [
       "Male      1376\n",
       "Female    1376\n",
       "All        176\n",
       "Name: SEX, dtype: int64"
      ]
     },
     "execution_count": 16,
     "metadata": {},
     "output_type": "execute_result"
    }
   ],
   "source": [
    "# Check the unique values in SEX and count the rows for each\n",
    "# np.unique(aids_df[['SEX']])\n",
    "aids_df['SEX'].value_counts()"
   ]
  },
  {
   "cell_type": "code",
   "execution_count": 17,
   "metadata": {},
   "outputs": [
    {
     "data": {
      "text/plain": [
       "All                       520\n",
       "Hispanic                  344\n",
       "Multiracial               344\n",
       "Unknown                   344\n",
       "White                     344\n",
       "Asian/Pacific Islander    344\n",
       "Black                     344\n",
       "Native American           344\n",
       "Name: RACE/ETHNICITY, dtype: int64"
      ]
     },
     "execution_count": 17,
     "metadata": {},
     "output_type": "execute_result"
    }
   ],
   "source": [
    "# Check the unique values in Race/Ethnicity\n",
    "# np.unique(aids_df[['RACE/ETHNICITY']])\n",
    "aids_df['RACE/ETHNICITY'].value_counts()"
   ]
  },
  {
   "cell_type": "code",
   "execution_count": 18,
   "metadata": {
    "scrolled": true
   },
   "outputs": [
    {
     "name": "stderr",
     "output_type": "stream",
     "text": [
      "/usr/local/Anaconda3-5.0.0-Linux-x86_64/envs/PUI2016_Python3/lib/python3.5/site-packages/ipykernel/__main__.py:2: UserWarning: Boolean Series key will be reindexed to match DataFrame index.\n",
      "  from ipykernel import kernelapp as app\n"
     ]
    }
   ],
   "source": [
    "# filter out data points from the set that appears to be aggregates i.e. All an\n",
    "aids_df_filtered = aids_df[(aids_df[\"SEX\"] != \"All\")][(aids_df[\"RACE/ETHNICITY\"] != \"All\")][(aids_df[\"TOTAL NUMBER OF AIDS DIAGNOSES\"] != \"*\")][(aids_df[\"TOTAL NUMBER OF HIV DIAGNOSES\"] != \"*\")]\n"
   ]
  },
  {
   "cell_type": "code",
   "execution_count": 19,
   "metadata": {},
   "outputs": [],
   "source": [
    "# select the 2 columns needed for the plot and coerce into numerics\n",
    "\n",
    "aids_df2 = aids_df_filtered[['TOTAL NUMBER OF HIV DIAGNOSES', 'TOTAL NUMBER OF AIDS DIAGNOSES']].apply(pd.to_numeric, errors=\"coerce\")"
   ]
  },
  {
   "cell_type": "code",
   "execution_count": 20,
   "metadata": {},
   "outputs": [],
   "source": [
    "# change the text values into NaNs\n",
    "\n",
    "aids_df2.replace('*', np.NaN, inplace = True)"
   ]
  },
  {
   "cell_type": "code",
   "execution_count": 21,
   "metadata": {},
   "outputs": [
    {
     "data": {
      "text/plain": [
       "TOTAL NUMBER OF HIV DIAGNOSES     int64\n",
       "TOTAL NUMBER OF AIDS DIAGNOSES    int64\n",
       "dtype: object"
      ]
     },
     "execution_count": 21,
     "metadata": {},
     "output_type": "execute_result"
    }
   ],
   "source": [
    "# check the data types\n",
    "\n",
    "aids_df2.dtypes"
   ]
  },
  {
   "cell_type": "code",
   "execution_count": 22,
   "metadata": {},
   "outputs": [
    {
     "data": {
      "text/plain": [
       "array([  0,   1,   2,   3,   4,   5,   6,   7,   8,   9,  10,  11,  12,\n",
       "        13,  14,  15,  16,  17,  18,  19,  20,  21,  22,  23,  24,  25,\n",
       "        26,  27,  28,  29,  30,  31,  32,  33,  34,  35,  36,  37,  38,\n",
       "        39,  40,  41,  42,  43,  44,  45,  46,  48,  50,  52,  54,  55,\n",
       "        56,  57,  58,  60,  62,  63,  65,  66,  74,  75,  79,  80,  81,\n",
       "        84,  85,  87,  88,  90,  92,  94,  95,  96,  98,  99, 101, 102,\n",
       "       109, 112, 113, 131])"
      ]
     },
     "execution_count": 22,
     "metadata": {},
     "output_type": "execute_result"
    }
   ],
   "source": [
    "# check the unique values\n",
    "\n",
    "np.unique(aids_df2['TOTAL NUMBER OF HIV DIAGNOSES'])"
   ]
  },
  {
   "cell_type": "code",
   "execution_count": 23,
   "metadata": {},
   "outputs": [
    {
     "data": {
      "text/plain": [
       "array([  0,   1,   2,   3,   4,   5,   6,   7,   8,   9,  10,  11,  12,\n",
       "        13,  14,  15,  16,  17,  18,  19,  20,  21,  22,  23,  24,  25,\n",
       "        26,  27,  28,  29,  30,  31,  32,  33,  34,  35,  36,  37,  38,\n",
       "        39,  40,  41,  42,  43,  45,  46,  47,  48,  49,  50,  56,  57,\n",
       "        58,  59,  60,  64,  68,  70,  72,  73,  74,  84, 102, 110])"
      ]
     },
     "execution_count": 23,
     "metadata": {},
     "output_type": "execute_result"
    }
   ],
   "source": [
    "# check the unique values\n",
    "\n",
    "np.unique(aids_df2['TOTAL NUMBER OF AIDS DIAGNOSES'])"
   ]
  },
  {
   "cell_type": "code",
   "execution_count": 24,
   "metadata": {},
   "outputs": [
    {
     "data": {
      "text/html": [
       "<div>\n",
       "<table border=\"1\" class=\"dataframe\">\n",
       "  <thead>\n",
       "    <tr style=\"text-align: right;\">\n",
       "      <th></th>\n",
       "      <th>TOTAL NUMBER OF HIV DIAGNOSES</th>\n",
       "      <th>TOTAL NUMBER OF AIDS DIAGNOSES</th>\n",
       "    </tr>\n",
       "  </thead>\n",
       "  <tbody>\n",
       "    <tr>\n",
       "      <th>0</th>\n",
       "      <td>6</td>\n",
       "      <td>5</td>\n",
       "    </tr>\n",
       "    <tr>\n",
       "      <th>1</th>\n",
       "      <td>0</td>\n",
       "      <td>0</td>\n",
       "    </tr>\n",
       "    <tr>\n",
       "      <th>3</th>\n",
       "      <td>0</td>\n",
       "      <td>0</td>\n",
       "    </tr>\n",
       "    <tr>\n",
       "      <th>4</th>\n",
       "      <td>0</td>\n",
       "      <td>0</td>\n",
       "    </tr>\n",
       "    <tr>\n",
       "      <th>5</th>\n",
       "      <td>54</td>\n",
       "      <td>33</td>\n",
       "    </tr>\n",
       "    <tr>\n",
       "      <th>6</th>\n",
       "      <td>0</td>\n",
       "      <td>0</td>\n",
       "    </tr>\n",
       "    <tr>\n",
       "      <th>7</th>\n",
       "      <td>0</td>\n",
       "      <td>0</td>\n",
       "    </tr>\n",
       "    <tr>\n",
       "      <th>8</th>\n",
       "      <td>0</td>\n",
       "      <td>0</td>\n",
       "    </tr>\n",
       "    <tr>\n",
       "      <th>10</th>\n",
       "      <td>0</td>\n",
       "      <td>0</td>\n",
       "    </tr>\n",
       "    <tr>\n",
       "      <th>12</th>\n",
       "      <td>0</td>\n",
       "      <td>0</td>\n",
       "    </tr>\n",
       "  </tbody>\n",
       "</table>\n",
       "</div>"
      ],
      "text/plain": [
       "    TOTAL NUMBER OF HIV DIAGNOSES  TOTAL NUMBER OF AIDS DIAGNOSES\n",
       "0                               6                               5\n",
       "1                               0                               0\n",
       "3                               0                               0\n",
       "4                               0                               0\n",
       "5                              54                              33\n",
       "6                               0                               0\n",
       "7                               0                               0\n",
       "8                               0                               0\n",
       "10                              0                               0\n",
       "12                              0                               0"
      ]
     },
     "execution_count": 24,
     "metadata": {},
     "output_type": "execute_result"
    }
   ],
   "source": [
    "# check the head of the values\n",
    "\n",
    "aids_df2.head(10)"
   ]
  },
  {
   "cell_type": "markdown",
   "metadata": {},
   "source": [
    "## plot the data"
   ]
  },
  {
   "cell_type": "code",
   "execution_count": 25,
   "metadata": {},
   "outputs": [
    {
     "data": {
      "text/plain": [
       "<matplotlib.axes._subplots.AxesSubplot at 0x7f558326b898>"
      ]
     },
     "execution_count": 25,
     "metadata": {},
     "output_type": "execute_result"
    }
   ],
   "source": [
    "aids_df2.plot(x=\"TOTAL NUMBER OF HIV DIAGNOSES\", y=\"TOTAL NUMBER OF AIDS DIAGNOSES\")"
   ]
  },
  {
   "cell_type": "code",
   "execution_count": 16,
   "metadata": {},
   "outputs": [],
   "source": [
    "# wont show anything if i do not use the magic command to show plots in the notebook \n",
    "#(or use pl.show to pop up a window, but for the homework plots have to be embedded)"
   ]
  },
  {
   "cell_type": "code",
   "execution_count": 26,
   "metadata": {},
   "outputs": [
    {
     "name": "stdout",
     "output_type": "stream",
     "text": [
      "Populating the interactive namespace from numpy and matplotlib\n"
     ]
    }
   ],
   "source": [
    "%pylab inline"
   ]
  },
  {
   "cell_type": "code",
   "execution_count": 27,
   "metadata": {},
   "outputs": [
    {
     "data": {
      "image/png": "[encoded data removed]",
      "text/plain": [
       "<matplotlib.figure.Figure at 0x7f555e18e668>"
      ]
     },
     "metadata": {},
     "output_type": "display_data"
    }
   ],
   "source": [
    "aids_df2.plot(x=\"TOTAL NUMBER OF HIV DIAGNOSES\", \n",
    "              y=\"TOTAL NUMBER OF AIDS DIAGNOSES\",\n",
    "              kind='scatter', figsize=(10,10), \n",
    "              title=\"Plot of Total Number of Aids Diagnoses vs. Total Number of HIV Diagnoses\");\n",
    "# every plot needs a caption that explains to the reader \n",
    "# 1) WHAT what the reader is loooking at and \n",
    "# 2) WHY why the reader is looking at it here in the analysis \n",
    "#      (in this case there is no why cause this plot is not part of an analysis)\n",
    "# 3) TAKE HOME what is the take home point for the plot in the analysis \n",
    "#      (also there is no take home point here cause we are not doind an analysis but you can point out interesting features)"
   ]
  },
  {
   "cell_type": "markdown",
   "metadata": {},
   "source": [
    "Figure 1: The plot shows that there is a positive correlation between the Total Number of HIV Diagnoses and the Total Number of Aids Diagnoses."
   ]
  },
  {
   "cell_type": "markdown",
   "metadata": {},
   "source": [
    "# solution 2: Use API and download a json file"
   ]
  },
  {
   "cell_type": "markdown",
   "metadata": {},
   "source": [
    "from the dataset export link now go to -> SODA API and the the endpoint"
   ]
  },
  {
   "cell_type": "code",
   "execution_count": 28,
   "metadata": {},
   "outputs": [],
   "source": [
    "# this is the url to the JSON file\n",
    "url = \"https://data.cityofnewyork.us/resource/6fha-ajet.json\""
   ]
  },
  {
   "cell_type": "code",
   "execution_count": 29,
   "metadata": {},
   "outputs": [],
   "source": [
    "#use the appropriatepandas function to read in the json file\n",
    "df = pd.read_json(url)"
   ]
  },
  {
   "cell_type": "code",
   "execution_count": 30,
   "metadata": {},
   "outputs": [
    {
     "data": {
      "text/html": [
       "<div>\n",
       "<table border=\"1\" class=\"dataframe\">\n",
       "  <thead>\n",
       "    <tr style=\"text-align: right;\">\n",
       "      <th></th>\n",
       "      <th>aids_diagnoses_num</th>\n",
       "      <th>aids_diagnoses_num_per_100k</th>\n",
       "      <th>concurrent_hiv_aids_among_all</th>\n",
       "      <th>hiv_aids_concurrent_num</th>\n",
       "      <th>hiv_diagnoses_num</th>\n",
       "      <th>hiv_diagnoses_num_per_100k</th>\n",
       "      <th>neighborhood</th>\n",
       "      <th>race</th>\n",
       "      <th>sex</th>\n",
       "      <th>year</th>\n",
       "    </tr>\n",
       "  </thead>\n",
       "  <tbody>\n",
       "    <tr>\n",
       "      <th>0</th>\n",
       "      <td>1</td>\n",
       "      <td>15.2</td>\n",
       "      <td>0</td>\n",
       "      <td>0</td>\n",
       "      <td>2</td>\n",
       "      <td>30.3</td>\n",
       "      <td>Fresh Meadows</td>\n",
       "      <td>Hispanic</td>\n",
       "      <td>Male</td>\n",
       "      <td>2013</td>\n",
       "    </tr>\n",
       "    <tr>\n",
       "      <th>1</th>\n",
       "      <td>0</td>\n",
       "      <td>0</td>\n",
       "      <td>0</td>\n",
       "      <td>0</td>\n",
       "      <td>3</td>\n",
       "      <td>113.1</td>\n",
       "      <td>Bedford Stuyvesant - Crown Heights</td>\n",
       "      <td>Multiracial</td>\n",
       "      <td>Male</td>\n",
       "      <td>2013</td>\n",
       "    </tr>\n",
       "    <tr>\n",
       "      <th>2</th>\n",
       "      <td>71</td>\n",
       "      <td>43</td>\n",
       "      <td>15.4</td>\n",
       "      <td>22</td>\n",
       "      <td>143</td>\n",
       "      <td>86.6</td>\n",
       "      <td>Central Harlem - Morningside Heights</td>\n",
       "      <td>All</td>\n",
       "      <td>All</td>\n",
       "      <td>2012</td>\n",
       "    </tr>\n",
       "  </tbody>\n",
       "</table>\n",
       "</div>"
      ],
      "text/plain": [
       "  aids_diagnoses_num aids_diagnoses_num_per_100k  \\\n",
       "0                  1                        15.2   \n",
       "1                  0                           0   \n",
       "2                 71                          43   \n",
       "\n",
       "  concurrent_hiv_aids_among_all hiv_aids_concurrent_num hiv_diagnoses_num  \\\n",
       "0                             0                       0                 2   \n",
       "1                             0                       0                 3   \n",
       "2                          15.4                      22               143   \n",
       "\n",
       "  hiv_diagnoses_num_per_100k                          neighborhood  \\\n",
       "0                       30.3                         Fresh Meadows   \n",
       "1                      113.1    Bedford Stuyvesant - Crown Heights   \n",
       "2                       86.6  Central Harlem - Morningside Heights   \n",
       "\n",
       "          race   sex  year  \n",
       "0     Hispanic  Male  2013  \n",
       "1  Multiracial  Male  2013  \n",
       "2          All   All  2012  "
      ]
     },
     "execution_count": 30,
     "metadata": {},
     "output_type": "execute_result"
    }
   ],
   "source": [
    "# print it out\n",
    "df.head(3)"
   ]
  },
  {
   "cell_type": "code",
   "execution_count": 31,
   "metadata": {},
   "outputs": [
    {
     "data": {
      "text/plain": [
       "aids_diagnoses_num               object\n",
       "aids_diagnoses_num_per_100k      object\n",
       "concurrent_hiv_aids_among_all    object\n",
       "hiv_aids_concurrent_num          object\n",
       "hiv_diagnoses_num                object\n",
       "hiv_diagnoses_num_per_100k       object\n",
       "neighborhood                     object\n",
       "race                             object\n",
       "sex                              object\n",
       "year                              int64\n",
       "dtype: object"
      ]
     },
     "execution_count": 31,
     "metadata": {},
     "output_type": "execute_result"
    }
   ],
   "source": [
    "# check the data types\n",
    "df.dtypes"
   ]
  },
  {
   "cell_type": "code",
   "execution_count": 32,
   "metadata": {},
   "outputs": [
    {
     "name": "stderr",
     "output_type": "stream",
     "text": [
      "/usr/local/Anaconda3-5.0.0-Linux-x86_64/envs/PUI2016_Python3/lib/python3.5/site-packages/ipykernel/__main__.py:2: UserWarning: Boolean Series key will be reindexed to match DataFrame index.\n",
      "  from ipykernel import kernelapp as app\n"
     ]
    }
   ],
   "source": [
    "# filter out the values that shouldn't be part of the data set\n",
    "df_filter = df[(df['sex'] != \"All\")][(df['race'] != \"All\")][(df['aids_diagnoses_num'] != \"*\")][(df['hiv_diagnoses_num'] != \"*\")]\n"
   ]
  },
  {
   "cell_type": "code",
   "execution_count": 33,
   "metadata": {},
   "outputs": [],
   "source": [
    "# coerce the values into numerics\n",
    "df3 = df_filter[['aids_diagnoses_num', 'hiv_diagnoses_num']].apply(pd.to_numeric, errors=\"coerce\")"
   ]
  },
  {
   "cell_type": "code",
   "execution_count": 34,
   "metadata": {},
   "outputs": [],
   "source": [
    "# change the \"*\" values into NaNs\n",
    "df3.replace('*', np.NaN, inplace = True)"
   ]
  },
  {
   "cell_type": "markdown",
   "metadata": {},
   "source": [
    "for consistency with the data above, I will change the names of the columns (variables) to be the same as before. This way the plots will come out with the same labels and legends"
   ]
  },
  {
   "cell_type": "code",
   "execution_count": 35,
   "metadata": {},
   "outputs": [],
   "source": [
    "# rename the columns so that it will have the kind of\n",
    "\n",
    "df3.rename(columns = {'hiv_diagnoses_num':'TOTAL NUMBER OF HIV DIAGNOSES', \n",
    "               'aids_diagnoses_num':'TOTAL NUMBER OF AIDS DIAGNOSES'}, inplace=True)"
   ]
  },
  {
   "cell_type": "code",
   "execution_count": 36,
   "metadata": {},
   "outputs": [
    {
     "data": {
      "image/png": "[encoded data removed]",
      "text/plain": [
       "<matplotlib.figure.Figure at 0x7f55595b9940>"
      ]
     },
     "metadata": {},
     "output_type": "display_data"
    }
   ],
   "source": [
    "#as a default this plot wont have a y label, but all plots must have axis labels!\n",
    "ax = df3.plot(x='TOTAL NUMBER OF HIV DIAGNOSES',\n",
    "              y='TOTAL NUMBER OF AIDS DIAGNOSES', \n",
    "              kind='scatter', figsize=(10,10),\n",
    "              title = \"Plot of Total Number of Aids Diagnoses vs. Total Number of HIV Diagnoses\" );\n",
    "ax.set_ylabel(\"TOTAL NUMBER OF AIDS DIAGNOSES\");"
   ]
  },
  {
   "cell_type": "markdown",
   "metadata": {},
   "source": [
    "Figure 2: The plot shows that there is a positive correlation between the Total Number of HIV Diagnoses and the Total Number of Aids Diagnoses."
   ]
  }
 ],
 "metadata": {
  "kernelspec": {
   "display_name": "PUI2016_Python3",
   "language": "python",
   "name": "pui2016_python3"
  },
  "language_info": {
   "codemirror_mode": {
    "name": "ipython",
    "version": 3
   },
   "file_extension": ".py",
   "mimetype": "text/x-python",
   "name": "python",
   "nbconvert_exporter": "python",
   "pygments_lexer": "ipython3",
   "version": "3.5.4"
  }
 },
 "nbformat": 4,
 "nbformat_minor": 2
}
