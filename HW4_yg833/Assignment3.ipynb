{
 "cells": [
  {
   "cell_type": "markdown",
   "metadata": {},
   "source": [
    "# Homeworl 4 Assignment 3"
   ]
  },
  {
   "cell_type": "markdown",
   "metadata": {},
   "source": [
    "This notebook is for Assignment 3 of Homework 4 for PUI2018. This notebook uses data from a text file for the (fictitious) \n",
    "bus line X8. And compare the new times to the previous mean and SD times for the bus which took 36 +- 6 minutes \n",
    "(mean and standard deviation parameters of the population). \n",
    "\n",
    "For this homeworkassignment, I worked with Sam Falk and Qin Yu"
   ]
  },
  {
   "cell_type": "markdown",
   "metadata": {},
   "source": [
    "## Null Hypothesis\n",
    "$H_0$ : The mean commute time after implementation of the new route for bus line X8 is the same or longer during peak hours as compared to prior mean of 36 minutes with a significance level p = 0.05.  "
   ]
  },
  {
   "cell_type": "markdown",
   "metadata": {},
   "source": [
    "## Alternative Hypothesis\n",
    "\n",
    "$H_A$ : The mean commute time after implementation of the new route for bus line X8 is shorter during peak hours as compared to prior mean of 36 minutes with a significance level p = 0.05.\n"
   ]
  },
  {
   "cell_type": "markdown",
   "metadata": {},
   "source": [
    "$H_0$ : $P_1$ - $P_0$ => 0\n",
    "\n",
    "$H_1$ : $P_1$ - $P_0$ < 0\n",
    "\n",
    "α = 0.05\n",
    "\n",
    "2 or more sigmas away from old mean then reject NULL using Z-test"
   ]
  },
  {
   "cell_type": "code",
   "execution_count": 1,
   "metadata": {},
   "outputs": [],
   "source": [
    "from __future__ import print_function #for compatibility beteen python2 and python3"
   ]
  },
  {
   "cell_type": "code",
   "execution_count": 7,
   "metadata": {},
   "outputs": [
    {
     "name": "stdout",
     "output_type": "stream",
     "text": [
      "  % Total    % Received % Xferd  Average Speed   Time    Time     Time  Current\n",
      "                                 Dload  Upload   Total   Spent    Left  Speed\n",
      "100  1179  100  1179    0     0  11310      0 --:--:-- --:--:-- --:--:-- 11336\n"
     ]
    }
   ],
   "source": [
    "!curl https://raw.githubusercontent.com/fedhere/PUI2018_fb55/master/Lab4_fb55/times.txt > x8_bus.txt"
   ]
  },
  {
   "cell_type": "code",
   "execution_count": 8,
   "metadata": {},
   "outputs": [
    {
     "name": "stdout",
     "output_type": "stream",
     "text": [
      "PUIdata /nfshome/yg833/PUI2018/PUIdata\n"
     ]
    }
   ],
   "source": [
    "# check to see if there is a PUIDATA env variable\n",
    "import os\n",
    "\n",
    "print(\"PUIdata\", os.getenv(\"PUIDATA\"))"
   ]
  },
  {
   "cell_type": "code",
   "execution_count": 9,
   "metadata": {},
   "outputs": [
    {
     "name": "stdout",
     "output_type": "stream",
     "text": [
      "PUIdata /nfshome/yg833/PUI2018/PUIdata\n"
     ]
    }
   ],
   "source": [
    "os.environ[\"PUIDATA\"] = \"%s/PUI2018/PUIdata\"%os.getenv(\"HOME\") ## force the PUIdata variable\n",
    "\n",
    "print(\"PUIdata\", os.getenv(\"PUIDATA\"))"
   ]
  },
  {
   "cell_type": "code",
   "execution_count": 10,
   "metadata": {},
   "outputs": [],
   "source": [
    "# move the data\n",
    "!mv x8_bus.txt $PUIDATA"
   ]
  },
  {
   "cell_type": "code",
   "execution_count": 13,
   "metadata": {},
   "outputs": [],
   "source": [
    "#read in the data with pandas\n",
    "import pandas as pd\n",
    "import numpy as np\n",
    "bus_df = pd.read_table(\"%s/x8_bus.txt\"%os.getenv(\"PUIDATA\"), delim_whitespace=True, names=(\"t\"))"
   ]
  },
  {
   "cell_type": "code",
   "execution_count": 18,
   "metadata": {},
   "outputs": [
    {
     "data": {
      "text/plain": [
       "t    34.466162\n",
       "dtype: float64"
      ]
     },
     "execution_count": 18,
     "metadata": {},
     "output_type": "execute_result"
    }
   ],
   "source": [
    "# calculate the new mean\n",
    "\n",
    "sample_mean = bus_df.mean()\n",
    "\n",
    "sample_mean"
   ]
  },
  {
   "cell_type": "code",
   "execution_count": 19,
   "metadata": {},
   "outputs": [
    {
     "data": {
      "text/plain": [
       "t    7.13728\n",
       "dtype: float64"
      ]
     },
     "execution_count": 19,
     "metadata": {},
     "output_type": "execute_result"
    }
   ],
   "source": [
    "# calcuate the SD\n",
    "\n",
    "sample_sd = bus_df.std()\n",
    "\n",
    "sample_sd"
   ]
  },
  {
   "cell_type": "code",
   "execution_count": 21,
   "metadata": {},
   "outputs": [
    {
     "data": {
      "text/plain": [
       "100"
      ]
     },
     "execution_count": 21,
     "metadata": {},
     "output_type": "execute_result"
    }
   ],
   "source": [
    "# get the sample size\n",
    "\n",
    "sample_N = len(bus_df)\n",
    "\n",
    "sample_N"
   ]
  },
  {
   "cell_type": "code",
   "execution_count": 22,
   "metadata": {},
   "outputs": [],
   "source": [
    "# population mean and SD\n",
    "pop_mean = 36\n",
    "\n",
    "pop_sd = 6"
   ]
  },
  {
   "cell_type": "code",
   "execution_count": 24,
   "metadata": {},
   "outputs": [
    {
     "data": {
      "text/plain": [
       "t    2.556397\n",
       "dtype: float64"
      ]
     },
     "execution_count": 24,
     "metadata": {},
     "output_type": "execute_result"
    }
   ],
   "source": [
    "# calculate Z statistic\n",
    "\n",
    "z_test = (pop_mean - sample_mean)/ (pop_sd/((sample_N)**(1/2)))\n",
    "\n",
    "z_test\n"
   ]
  },
  {
   "cell_type": "markdown",
   "metadata": {},
   "source": [
    "We can reject the null as the Z-score of 2.56 is more than 2 sigmas away from the old mean. "
   ]
  }
 ],
 "metadata": {
  "kernelspec": {
   "display_name": "PUI2016_Python3",
   "language": "python",
   "name": "pui2016_python3"
  },
  "language_info": {
   "codemirror_mode": {
    "name": "ipython",
    "version": 3
   },
   "file_extension": ".py",
   "mimetype": "text/x-python",
   "name": "python",
   "nbconvert_exporter": "python",
   "pygments_lexer": "ipython3",
   "version": "3.5.4"
  }
 },
 "nbformat": 4,
 "nbformat_minor": 2
}
