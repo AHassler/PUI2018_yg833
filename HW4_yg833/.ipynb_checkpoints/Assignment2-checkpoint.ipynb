{
 "cells": [
  {
   "cell_type": "markdown",
   "metadata": {},
   "source": [
    "# Homework 4 Assignment 2: \n",
    "\n",
    "Directions from Dr. Bianco : https://github.com/fedhere/PUI2018_fb55/tree/master/HW4_fb55\n",
    "\n",
    "Formulate a question, null and alternative hypothesis for a CitiBike dataset that our team would like to investigate. Use pandas to read in the dataframe within the notebook and more it to the $PUIDATA folder. Display and plot the data. \n"
   ]
  },
  {
   "cell_type": "markdown",
   "metadata": {},
   "source": [
    "## Idea/Question and Hypothesis\n",
    "\n",
    "### Idea/Question\n",
    "In the CitiBikes dataset, there are 2 usertypes: Customers and Subscribers. \n",
    "\n",
    "**Subscribers** (Subs) are less likely to ride Citibikes on weekends in comparison to **Customers** (Cus).\n",
    "\n",
    "### Null Hypothesis\n",
    "The proportion of bike trips on weekends by riders who are **Subscribers** (Subs) is the same or more than the proportion of bike trips on weekends by riders who are **Customers** (Cus).\n",
    "\n",
    "_$H_0$ : $\\frac{Subs_{\\mathrm{NumberOfTrips}}}{Weekend_{\\mathrm{totalTrips}}} => \\frac{Cus_{\\mathrm{NumberOfTrips}}}{Weekend_{\\mathrm{totalTrips}}}$\n",
    "\n",
    "_$H_1$ : $\\frac{Subs_{\\mathrm{NumberOfTrips}}}{Weekend_{\\mathrm{totalTrips}}} < \\frac{Cus_{\\mathrm{NumberOfTrips}}}{Weekend_{\\mathrm{totalTrips}}}$\n",
    "\n",
    "using a significance level of α = 0.05"
   ]
  },
  {
   "cell_type": "code",
   "execution_count": 1,
   "metadata": {},
   "outputs": [
    {
     "name": "stdout",
     "output_type": "stream",
     "text": [
      "Populating the interactive namespace from numpy and matplotlib\n"
     ]
    }
   ],
   "source": [
    "# import the necessary libraries for this analysis.\n",
    "from __future__  import print_function, division\n",
    "import pylab as pl\n",
    "import pandas as pd\n",
    "import numpy as np\n",
    "import datetime as dt\n",
    "import os\n",
    "\n",
    "%pylab inline"
   ]
  },
  {
   "cell_type": "code",
   "execution_count": 2,
   "metadata": {},
   "outputs": [
    {
     "name": "stdout",
     "output_type": "stream",
     "text": [
      "PUIdata /nfshome/yg833/PUI2018/PUIdata\n"
     ]
    }
   ],
   "source": [
    "# PUIDATA environmental variable\n",
    "os.environ[\"PUIDATA\"] = \"%s/PUI2018/PUIdata\"%os.getenv(\"HOME\") ## force the PUIdata variable\n",
    "\n",
    "print(\"PUIdata\", os.getenv(\"PUIDATA\"))"
   ]
  },
  {
   "cell_type": "markdown",
   "metadata": {},
   "source": [
    "Credit goes to Dr. Bianco's (@fedhere) sample citibikes_gender.ipynb for the function to pull citibikes data set and move into PUIDATA folder\n",
    "https://github.com/fedhere/PUI2018_fb55/blob/master/HW4_fb55/citibikes_gender.ipynb "
   ]
  },
  {
   "cell_type": "code",
   "execution_count": 3,
   "metadata": {},
   "outputs": [],
   "source": [
    "### A function to download the data: simple bash commands can be run by preceding them with !\n",
    "### but more complex command lines with variable arguments need to be build as string and run with os.system\n",
    "### this code cell does a lot of things: looks for existing files, download a file if none is there, unzips it, moves it.\n",
    "\n",
    "def getCitiBikeCSV(datestring):\n",
    "    print (\"Downloading\", datestring)\n",
    "    ### First I will heck that it is not already there\n",
    "    if not os.path.isfile(os.getenv(\"PUIDATA\") + \"/\" + datestring + \"-citibike-tripdata.csv\"):\n",
    "        if os.path.isfile(datestring + \"-citibike-tripdata.csv\"):\n",
    "            # if in the current dir just move it\n",
    "            if os.system(\"mv \" + datestring + \"-citibike-tripdata.csv \" + os.getenv(\"PUIDATA\")):\n",
    "                print (\"Error moving file!, Please check!\")\n",
    "        #otherwise start looking for the zip file\n",
    "        else:\n",
    "            if not os.path.isfile(os.getenv(\"PUIDATA\") + \"/\" + datestring + \"-citibike-tripdata.zip\"):\n",
    "                if not os.path.isfile(datestring + \"-citibike-tripdata.zip\"):\n",
    "                    os.system(\"curl -O https://s3.amazonaws.com/tripdata/\" + datestring + \"-citibike-tripdata.zip\")\n",
    "                ###  To move it I use the os.system() functions to run bash commands with arguments\n",
    "                os.system(\"mv \" + datestring + \"-citibike-tripdata.zip \" + os.getenv(\"PUIDATA\"))\n",
    "            ### unzip the csv \n",
    "            os.system(\"unzip \" + os.getenv(\"PUIDATA\") + \"/\" + datestring + \"-citibike-tripdata.zip\")\n",
    "            ## NOTE: old csv citibike data had a different name structure. \n",
    "            if '2014' in datestring:\n",
    "                os.system(\"mv \" + datestring[:4] + '-' +  datestring[4:] + \n",
    "                          \"\\ -\\ Citi\\ Bike\\ trip\\ data.csv \" + datestring + \"-citibike-tripdata.csv\")\n",
    "            os.system(\"mv \" + datestring + \"-citibike-tripdata.csv \" + os.getenv(\"PUIDATA\"))\n",
    "    ### One final check:\n",
    "    if not os.path.isfile(os.getenv(\"PUIDATA\") + \"/\" + datestring + \"-citibike-tripdata.csv\"):\n",
    "        print (\"WARNING!!! something is wrong: the file is not there!\")\n",
    "\n",
    "    else:\n",
    "        print (\"file in place, you can continue\")"
   ]
  },
  {
   "cell_type": "code",
   "execution_count": 4,
   "metadata": {},
   "outputs": [
    {
     "name": "stdout",
     "output_type": "stream",
     "text": [
      "Downloading 201606\n",
      "file in place, you can continue\n"
     ]
    }
   ],
   "source": [
    "datestring = '201606'\n",
    "getCitiBikeCSV(datestring)\n",
    "# Check the file and it is a zip file\n",
    "# running this code for the first time only downloads the zip file. \n",
    "# ran the code 2nd time to ensure that the file is in place and is unzipped"
   ]
  },
  {
   "cell_type": "code",
   "execution_count": 18,
   "metadata": {},
   "outputs": [],
   "source": [
    "# read in the citibike data for June 2016\n",
    "citidf = pd.read_csv(os.getenv(\"PUIDATA\") + \"/\" + datestring + '-citibike-tripdata.csv')"
   ]
  },
  {
   "cell_type": "code",
   "execution_count": 19,
   "metadata": {},
   "outputs": [
    {
     "data": {
      "text/html": [
       "<div>\n",
       "<table border=\"1\" class=\"dataframe\">\n",
       "  <thead>\n",
       "    <tr style=\"text-align: right;\">\n",
       "      <th></th>\n",
       "      <th>tripduration</th>\n",
       "      <th>starttime</th>\n",
       "      <th>stoptime</th>\n",
       "      <th>start station id</th>\n",
       "      <th>start station name</th>\n",
       "      <th>start station latitude</th>\n",
       "      <th>start station longitude</th>\n",
       "      <th>end station id</th>\n",
       "      <th>end station name</th>\n",
       "      <th>end station latitude</th>\n",
       "      <th>end station longitude</th>\n",
       "      <th>bikeid</th>\n",
       "      <th>usertype</th>\n",
       "      <th>birth year</th>\n",
       "      <th>gender</th>\n",
       "    </tr>\n",
       "  </thead>\n",
       "  <tbody>\n",
       "    <tr>\n",
       "      <th>0</th>\n",
       "      <td>1470</td>\n",
       "      <td>6/1/2016 00:00:18</td>\n",
       "      <td>6/1/2016 00:24:48</td>\n",
       "      <td>380</td>\n",
       "      <td>W 4 St &amp; 7 Ave S</td>\n",
       "      <td>40.734011</td>\n",
       "      <td>-74.002939</td>\n",
       "      <td>3236</td>\n",
       "      <td>W 42 St &amp; Dyer Ave</td>\n",
       "      <td>40.758985</td>\n",
       "      <td>-73.993800</td>\n",
       "      <td>19859</td>\n",
       "      <td>Subscriber</td>\n",
       "      <td>1972.0</td>\n",
       "      <td>1</td>\n",
       "    </tr>\n",
       "    <tr>\n",
       "      <th>1</th>\n",
       "      <td>229</td>\n",
       "      <td>6/1/2016 00:00:20</td>\n",
       "      <td>6/1/2016 00:04:09</td>\n",
       "      <td>3092</td>\n",
       "      <td>Berry St &amp; N 8 St</td>\n",
       "      <td>40.719009</td>\n",
       "      <td>-73.958525</td>\n",
       "      <td>3103</td>\n",
       "      <td>N 11 St &amp; Wythe Ave</td>\n",
       "      <td>40.721533</td>\n",
       "      <td>-73.957824</td>\n",
       "      <td>16233</td>\n",
       "      <td>Subscriber</td>\n",
       "      <td>1967.0</td>\n",
       "      <td>1</td>\n",
       "    </tr>\n",
       "    <tr>\n",
       "      <th>2</th>\n",
       "      <td>344</td>\n",
       "      <td>6/1/2016 00:00:21</td>\n",
       "      <td>6/1/2016 00:06:06</td>\n",
       "      <td>449</td>\n",
       "      <td>W 52 St &amp; 9 Ave</td>\n",
       "      <td>40.764618</td>\n",
       "      <td>-73.987895</td>\n",
       "      <td>469</td>\n",
       "      <td>Broadway &amp; W 53 St</td>\n",
       "      <td>40.763441</td>\n",
       "      <td>-73.982681</td>\n",
       "      <td>22397</td>\n",
       "      <td>Subscriber</td>\n",
       "      <td>1989.0</td>\n",
       "      <td>1</td>\n",
       "    </tr>\n",
       "    <tr>\n",
       "      <th>3</th>\n",
       "      <td>1120</td>\n",
       "      <td>6/1/2016 00:00:28</td>\n",
       "      <td>6/1/2016 00:19:09</td>\n",
       "      <td>522</td>\n",
       "      <td>E 51 St &amp; Lexington Ave</td>\n",
       "      <td>40.757148</td>\n",
       "      <td>-73.972078</td>\n",
       "      <td>401</td>\n",
       "      <td>Allen St &amp; Rivington St</td>\n",
       "      <td>40.720196</td>\n",
       "      <td>-73.989978</td>\n",
       "      <td>16231</td>\n",
       "      <td>Subscriber</td>\n",
       "      <td>1991.0</td>\n",
       "      <td>1</td>\n",
       "    </tr>\n",
       "    <tr>\n",
       "      <th>4</th>\n",
       "      <td>229</td>\n",
       "      <td>6/1/2016 00:00:53</td>\n",
       "      <td>6/1/2016 00:04:42</td>\n",
       "      <td>335</td>\n",
       "      <td>Washington Pl &amp; Broadway</td>\n",
       "      <td>40.729039</td>\n",
       "      <td>-73.994046</td>\n",
       "      <td>285</td>\n",
       "      <td>Broadway &amp; E 14 St</td>\n",
       "      <td>40.734546</td>\n",
       "      <td>-73.990741</td>\n",
       "      <td>15400</td>\n",
       "      <td>Subscriber</td>\n",
       "      <td>1989.0</td>\n",
       "      <td>1</td>\n",
       "    </tr>\n",
       "    <tr>\n",
       "      <th>5</th>\n",
       "      <td>946</td>\n",
       "      <td>6/1/2016 00:01:01</td>\n",
       "      <td>6/1/2016 00:16:48</td>\n",
       "      <td>503</td>\n",
       "      <td>E 20 St &amp; Park Ave</td>\n",
       "      <td>40.738274</td>\n",
       "      <td>-73.987520</td>\n",
       "      <td>495</td>\n",
       "      <td>W 47 St &amp; 10 Ave</td>\n",
       "      <td>40.762699</td>\n",
       "      <td>-73.993012</td>\n",
       "      <td>25193</td>\n",
       "      <td>Subscriber</td>\n",
       "      <td>1974.0</td>\n",
       "      <td>1</td>\n",
       "    </tr>\n",
       "    <tr>\n",
       "      <th>6</th>\n",
       "      <td>2351</td>\n",
       "      <td>6/1/2016 00:01:05</td>\n",
       "      <td>6/1/2016 00:40:16</td>\n",
       "      <td>533</td>\n",
       "      <td>Broadway &amp; W 39 St</td>\n",
       "      <td>40.752996</td>\n",
       "      <td>-73.987216</td>\n",
       "      <td>386</td>\n",
       "      <td>Centre St &amp; Worth St</td>\n",
       "      <td>40.714948</td>\n",
       "      <td>-74.002345</td>\n",
       "      <td>19538</td>\n",
       "      <td>Subscriber</td>\n",
       "      <td>1986.0</td>\n",
       "      <td>1</td>\n",
       "    </tr>\n",
       "    <tr>\n",
       "      <th>7</th>\n",
       "      <td>773</td>\n",
       "      <td>6/1/2016 00:01:24</td>\n",
       "      <td>6/1/2016 00:14:18</td>\n",
       "      <td>492</td>\n",
       "      <td>W 33 St &amp; 7 Ave</td>\n",
       "      <td>40.750200</td>\n",
       "      <td>-73.990931</td>\n",
       "      <td>483</td>\n",
       "      <td>E 12 St &amp; 3 Ave</td>\n",
       "      <td>40.732233</td>\n",
       "      <td>-73.988900</td>\n",
       "      <td>17101</td>\n",
       "      <td>Subscriber</td>\n",
       "      <td>1986.0</td>\n",
       "      <td>1</td>\n",
       "    </tr>\n",
       "    <tr>\n",
       "      <th>8</th>\n",
       "      <td>1929</td>\n",
       "      <td>6/1/2016 00:01:27</td>\n",
       "      <td>6/1/2016 00:33:37</td>\n",
       "      <td>525</td>\n",
       "      <td>W 34 St &amp; 11 Ave</td>\n",
       "      <td>40.755942</td>\n",
       "      <td>-74.002116</td>\n",
       "      <td>306</td>\n",
       "      <td>Cliff St &amp; Fulton St</td>\n",
       "      <td>40.708235</td>\n",
       "      <td>-74.005301</td>\n",
       "      <td>17802</td>\n",
       "      <td>Subscriber</td>\n",
       "      <td>1968.0</td>\n",
       "      <td>1</td>\n",
       "    </tr>\n",
       "    <tr>\n",
       "      <th>9</th>\n",
       "      <td>725</td>\n",
       "      <td>6/1/2016 00:01:38</td>\n",
       "      <td>6/1/2016 00:13:43</td>\n",
       "      <td>2002</td>\n",
       "      <td>Wythe Ave &amp; Metropolitan Ave</td>\n",
       "      <td>40.716887</td>\n",
       "      <td>-73.963198</td>\n",
       "      <td>3083</td>\n",
       "      <td>Bushwick Ave &amp; Powers St</td>\n",
       "      <td>40.712477</td>\n",
       "      <td>-73.941000</td>\n",
       "      <td>21421</td>\n",
       "      <td>Subscriber</td>\n",
       "      <td>1971.0</td>\n",
       "      <td>2</td>\n",
       "    </tr>\n",
       "  </tbody>\n",
       "</table>\n",
       "</div>"
      ],
      "text/plain": [
       "   tripduration          starttime           stoptime  start station id  \\\n",
       "0          1470  6/1/2016 00:00:18  6/1/2016 00:24:48               380   \n",
       "1           229  6/1/2016 00:00:20  6/1/2016 00:04:09              3092   \n",
       "2           344  6/1/2016 00:00:21  6/1/2016 00:06:06               449   \n",
       "3          1120  6/1/2016 00:00:28  6/1/2016 00:19:09               522   \n",
       "4           229  6/1/2016 00:00:53  6/1/2016 00:04:42               335   \n",
       "5           946  6/1/2016 00:01:01  6/1/2016 00:16:48               503   \n",
       "6          2351  6/1/2016 00:01:05  6/1/2016 00:40:16               533   \n",
       "7           773  6/1/2016 00:01:24  6/1/2016 00:14:18               492   \n",
       "8          1929  6/1/2016 00:01:27  6/1/2016 00:33:37               525   \n",
       "9           725  6/1/2016 00:01:38  6/1/2016 00:13:43              2002   \n",
       "\n",
       "             start station name  start station latitude  \\\n",
       "0              W 4 St & 7 Ave S               40.734011   \n",
       "1             Berry St & N 8 St               40.719009   \n",
       "2               W 52 St & 9 Ave               40.764618   \n",
       "3       E 51 St & Lexington Ave               40.757148   \n",
       "4      Washington Pl & Broadway               40.729039   \n",
       "5            E 20 St & Park Ave               40.738274   \n",
       "6            Broadway & W 39 St               40.752996   \n",
       "7               W 33 St & 7 Ave               40.750200   \n",
       "8              W 34 St & 11 Ave               40.755942   \n",
       "9  Wythe Ave & Metropolitan Ave               40.716887   \n",
       "\n",
       "   start station longitude  end station id          end station name  \\\n",
       "0               -74.002939            3236        W 42 St & Dyer Ave   \n",
       "1               -73.958525            3103       N 11 St & Wythe Ave   \n",
       "2               -73.987895             469        Broadway & W 53 St   \n",
       "3               -73.972078             401   Allen St & Rivington St   \n",
       "4               -73.994046             285        Broadway & E 14 St   \n",
       "5               -73.987520             495          W 47 St & 10 Ave   \n",
       "6               -73.987216             386      Centre St & Worth St   \n",
       "7               -73.990931             483           E 12 St & 3 Ave   \n",
       "8               -74.002116             306      Cliff St & Fulton St   \n",
       "9               -73.963198            3083  Bushwick Ave & Powers St   \n",
       "\n",
       "   end station latitude  end station longitude  bikeid    usertype  \\\n",
       "0             40.758985             -73.993800   19859  Subscriber   \n",
       "1             40.721533             -73.957824   16233  Subscriber   \n",
       "2             40.763441             -73.982681   22397  Subscriber   \n",
       "3             40.720196             -73.989978   16231  Subscriber   \n",
       "4             40.734546             -73.990741   15400  Subscriber   \n",
       "5             40.762699             -73.993012   25193  Subscriber   \n",
       "6             40.714948             -74.002345   19538  Subscriber   \n",
       "7             40.732233             -73.988900   17101  Subscriber   \n",
       "8             40.708235             -74.005301   17802  Subscriber   \n",
       "9             40.712477             -73.941000   21421  Subscriber   \n",
       "\n",
       "   birth year  gender  \n",
       "0      1972.0       1  \n",
       "1      1967.0       1  \n",
       "2      1989.0       1  \n",
       "3      1991.0       1  \n",
       "4      1989.0       1  \n",
       "5      1974.0       1  \n",
       "6      1986.0       1  \n",
       "7      1986.0       1  \n",
       "8      1968.0       1  \n",
       "9      1971.0       2  "
      ]
     },
     "execution_count": 19,
     "metadata": {},
     "output_type": "execute_result"
    }
   ],
   "source": [
    "# render the first 10 obs of the citibikes dataframe\n",
    "citidf.head(10)"
   ]
  },
  {
   "cell_type": "code",
   "execution_count": 20,
   "metadata": {},
   "outputs": [
    {
     "data": {
      "text/plain": [
       "Index(['tripduration', 'starttime', 'stoptime', 'start station id',\n",
       "       'start station name', 'start station latitude',\n",
       "       'start station longitude', 'end station id', 'end station name',\n",
       "       'end station latitude', 'end station longitude', 'bikeid', 'usertype',\n",
       "       'birth year', 'gender'],\n",
       "      dtype='object')"
      ]
     },
     "execution_count": 20,
     "metadata": {},
     "output_type": "execute_result"
    }
   ],
   "source": [
    "# check for the column names\n",
    "citidf.columns"
   ]
  },
  {
   "cell_type": "code",
   "execution_count": 21,
   "metadata": {},
   "outputs": [],
   "source": [
    "# create a date variable that is formatted into pandas format %Y-%m-%d hh:mm:ss\n",
    "citidf['date'] = pd.to_datetime(citidf['starttime'])"
   ]
  },
  {
   "cell_type": "code",
   "execution_count": 22,
   "metadata": {},
   "outputs": [],
   "source": [
    "# drop the columns dont need for this\n",
    "citidf.drop(['tripduration', 'starttime', 'stoptime', 'start station id',\n",
    "       'start station name', 'start station latitude',\n",
    "       'start station longitude', 'end station id', 'end station name',\n",
    "       'end station latitude', 'end station longitude', 'bikeid', 'gender',\n",
    "       'birth year'], axis=1, inplace=True)"
   ]
  },
  {
   "cell_type": "code",
   "execution_count": 23,
   "metadata": {},
   "outputs": [
    {
     "data": {
      "text/html": [
       "<div>\n",
       "<table border=\"1\" class=\"dataframe\">\n",
       "  <thead>\n",
       "    <tr style=\"text-align: right;\">\n",
       "      <th></th>\n",
       "      <th>usertype</th>\n",
       "      <th>date</th>\n",
       "    </tr>\n",
       "  </thead>\n",
       "  <tbody>\n",
       "    <tr>\n",
       "      <th>0</th>\n",
       "      <td>Subscriber</td>\n",
       "      <td>2016-06-01 00:00:18</td>\n",
       "    </tr>\n",
       "    <tr>\n",
       "      <th>1</th>\n",
       "      <td>Subscriber</td>\n",
       "      <td>2016-06-01 00:00:20</td>\n",
       "    </tr>\n",
       "    <tr>\n",
       "      <th>2</th>\n",
       "      <td>Subscriber</td>\n",
       "      <td>2016-06-01 00:00:21</td>\n",
       "    </tr>\n",
       "    <tr>\n",
       "      <th>3</th>\n",
       "      <td>Subscriber</td>\n",
       "      <td>2016-06-01 00:00:28</td>\n",
       "    </tr>\n",
       "    <tr>\n",
       "      <th>4</th>\n",
       "      <td>Subscriber</td>\n",
       "      <td>2016-06-01 00:00:53</td>\n",
       "    </tr>\n",
       "    <tr>\n",
       "      <th>5</th>\n",
       "      <td>Subscriber</td>\n",
       "      <td>2016-06-01 00:01:01</td>\n",
       "    </tr>\n",
       "    <tr>\n",
       "      <th>6</th>\n",
       "      <td>Subscriber</td>\n",
       "      <td>2016-06-01 00:01:05</td>\n",
       "    </tr>\n",
       "    <tr>\n",
       "      <th>7</th>\n",
       "      <td>Subscriber</td>\n",
       "      <td>2016-06-01 00:01:24</td>\n",
       "    </tr>\n",
       "    <tr>\n",
       "      <th>8</th>\n",
       "      <td>Subscriber</td>\n",
       "      <td>2016-06-01 00:01:27</td>\n",
       "    </tr>\n",
       "    <tr>\n",
       "      <th>9</th>\n",
       "      <td>Subscriber</td>\n",
       "      <td>2016-06-01 00:01:38</td>\n",
       "    </tr>\n",
       "  </tbody>\n",
       "</table>\n",
       "</div>"
      ],
      "text/plain": [
       "     usertype                date\n",
       "0  Subscriber 2016-06-01 00:00:18\n",
       "1  Subscriber 2016-06-01 00:00:20\n",
       "2  Subscriber 2016-06-01 00:00:21\n",
       "3  Subscriber 2016-06-01 00:00:28\n",
       "4  Subscriber 2016-06-01 00:00:53\n",
       "5  Subscriber 2016-06-01 00:01:01\n",
       "6  Subscriber 2016-06-01 00:01:05\n",
       "7  Subscriber 2016-06-01 00:01:24\n",
       "8  Subscriber 2016-06-01 00:01:27\n",
       "9  Subscriber 2016-06-01 00:01:38"
      ]
     },
     "execution_count": 23,
     "metadata": {},
     "output_type": "execute_result"
    }
   ],
   "source": [
    "# check the data frame again for the first 10 obs\n",
    "citidf.head(10)"
   ]
  },
  {
   "cell_type": "markdown",
   "metadata": {},
   "source": [
    "#### Separate the subscribers from the customers for hypothesis testing. \n",
    "#### Then plot the number of trips by day of week."
   ]
  },
  {
   "cell_type": "code",
   "execution_count": 32,
   "metadata": {},
   "outputs": [
    {
     "data": {
      "text/plain": [
       "Text(0.5,1,'Count of Citibike Trips By User Type in June 2016')"
      ]
     },
     "execution_count": 32,
     "metadata": {},
     "output_type": "execute_result"
    },
    {
     "data": {
      "image/png": "[encoded data removed]",
      "text/plain": [
       "<matplotlib.figure.Figure at 0x7f8c277f1f28>"
      ]
     },
     "metadata": {},
     "output_type": "display_data"
    }
   ],
   "source": [
    "fig = pl.figure(figsize(15,15))\n",
    "\n",
    "#instad of plotting with matplotlib i.e. plot() i use the plot method in pandas\n",
    "norm_w = 1\n",
    "((citidf['date'][citidf['usertype'] == 'Subscriber'].groupby([citidf['date'].dt.weekday]).count()) / norm_w).plot(kind=\"bar\", \n",
    "                                                                                         color='IndianRed', \n",
    "                                                                                         label='Subscriber')\n",
    "\n",
    "norm_m = 1\n",
    "ax = ((citidf['date'][citidf['usertype'] == 'Customer'].groupby([citidf['date'].dt.weekday]).count()) / norm_m).plot(kind=\"bar\", \n",
    "                                                                                              color='SteelBlue', \n",
    "                                                                                              label='Customer')\n",
    "\n",
    "tmp = ax.xaxis.set_ticklabels(['Mon', 'Tue', 'Wed', 'Thu', 'Fri', 'Sat', 'Sun'], fontsize=20)\n",
    "pl.legend()\n",
    "\n",
    "pl.title('Count of Citibike Trips By User Type in June 2016')\n"
   ]
  },
  {
   "cell_type": "markdown",
   "metadata": {},
   "source": [
    "#### Figure 1: Distribution of Citibike trips by User Type in June 2016, absolute count of trips."
   ]
  },
  {
   "cell_type": "code",
   "execution_count": 33,
   "metadata": {},
   "outputs": [
    {
     "data": {
      "text/plain": [
       "Text(0.5,1,'Count of Citibike Trips By User Type in June 2016 with Error Bars')"
      ]
     },
     "execution_count": 33,
     "metadata": {},
     "output_type": "execute_result"
    },
    {
     "data": {
      "image/png": "[encoded data removed]",
      "text/plain": [
       "<matplotlib.figure.Figure at 0x7f8c277bb940>"
      ]
     },
     "metadata": {},
     "output_type": "display_data"
    }
   ],
   "source": [
    "## following a Poisson statistic because counts. and get the error using sqrt of the counts\n",
    "\n",
    "fig=pl.figure(figsize(15,10))\n",
    "\n",
    "counts_s = citidf.date[citidf.usertype == 'Subscriber'].groupby([citidf.date.dt.weekday]).count()\n",
    "norm_s = 1\n",
    "error_s = np.sqrt(counts_s)\n",
    "ax=((counts_s) / norm_s).plot(kind=\"bar\",color='IndianRed',  yerr=[\n",
    "            ((error_s) / norm_s, (error_s) / norm_s)], label='Subscriber')\n",
    "\n",
    "\n",
    "counts_c = citidf.date[citidf.usertype== 'Customer'].groupby([citidf.date.dt.weekday]).count()\n",
    "norm_c = 1\n",
    "error_c=np.sqrt(counts_c)\n",
    "((counts_c) / norm_c).plot(kind=\"bar\", yerr=[((error_c) / norm_c, (error_c) / norm_c)], \n",
    "                           color='SteelBlue', label='Customer')\n",
    "ax.xaxis.set_ticklabels(['Mon','Tue','Wed','Thu','Fri','Sat','Sun'], fontsize=20)\n",
    "ax.set_ylabel (\"Number of Rides\")\n",
    "ax.set_xlabel (\"Day of the week\")\n",
    "pl.legend(['Subscriber','Customer'],fontsize=20)\n",
    "\n",
    "pl.title('Count of Citibike Trips By User Type in June 2016 with Error Bars')\n"
   ]
  },
  {
   "cell_type": "markdown",
   "metadata": {},
   "source": [
    "#### Figure 2: Distribution of Citibike trips by User Type in June 2016, absolute counts, with statistical errors."
   ]
  }
 ],
 "metadata": {
  "kernelspec": {
   "display_name": "PUI2016_Python3",
   "language": "python",
   "name": "pui2016_python3"
  },
  "language_info": {
   "codemirror_mode": {
    "name": "ipython",
    "version": 3
   },
   "file_extension": ".py",
   "mimetype": "text/x-python",
   "name": "python",
   "nbconvert_exporter": "python",
   "pygments_lexer": "ipython3",
   "version": "3.5.4"
  }
 },
 "nbformat": 4,
 "nbformat_minor": 2
}
